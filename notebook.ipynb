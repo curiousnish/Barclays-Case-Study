{
 "cells": [
  {
   "cell_type": "code",
   "execution_count": 1,
   "metadata": {
    "ExecuteTime": {
     "end_time": "2020-06-22T15:08:10.590158Z",
     "start_time": "2020-06-22T15:08:02.725078Z"
    }
   },
   "outputs": [],
   "source": [
    "# Importing the Libraries\n",
    "import numpy as np\n",
    "import pandas as pd\n",
    "import matplotlib.pyplot as plt\n",
    "%matplotlib inline\n",
    "import seaborn as sns\n",
    "import datetime"
   ]
  },
  {
   "cell_type": "code",
   "execution_count": 3,
   "metadata": {
    "ExecuteTime": {
     "end_time": "2020-06-22T15:10:35.342497Z",
     "start_time": "2020-06-22T15:10:33.261495Z"
    }
   },
   "outputs": [
    {
     "data": {
      "text/html": [
       "<div>\n",
       "<style scoped>\n",
       "    .dataframe tbody tr th:only-of-type {\n",
       "        vertical-align: middle;\n",
       "    }\n",
       "\n",
       "    .dataframe tbody tr th {\n",
       "        vertical-align: top;\n",
       "    }\n",
       "\n",
       "    .dataframe thead th {\n",
       "        text-align: right;\n",
       "    }\n",
       "</style>\n",
       "<table border=\"1\" class=\"dataframe\">\n",
       "  <thead>\n",
       "    <tr style=\"text-align: right;\">\n",
       "      <th></th>\n",
       "      <th>SEDOL</th>\n",
       "      <th>Counterparty_Account_ID</th>\n",
       "      <th>Position_Quantity_SD</th>\n",
       "    </tr>\n",
       "    <tr>\n",
       "      <th>BusinessDate</th>\n",
       "      <th></th>\n",
       "      <th></th>\n",
       "      <th></th>\n",
       "    </tr>\n",
       "  </thead>\n",
       "  <tbody>\n",
       "    <tr>\n",
       "      <th>2019-05-02</th>\n",
       "      <td>5BDN21B</td>\n",
       "      <td>11009</td>\n",
       "      <td>121000.0</td>\n",
       "    </tr>\n",
       "    <tr>\n",
       "      <th>2019-05-02</th>\n",
       "      <td>5BDN21B</td>\n",
       "      <td>14120</td>\n",
       "      <td>928200.0</td>\n",
       "    </tr>\n",
       "    <tr>\n",
       "      <th>2019-05-02</th>\n",
       "      <td>5BDN21B</td>\n",
       "      <td>16109</td>\n",
       "      <td>1452000.0</td>\n",
       "    </tr>\n",
       "    <tr>\n",
       "      <th>2019-05-02</th>\n",
       "      <td>5BDN21B</td>\n",
       "      <td>16140</td>\n",
       "      <td>-40600.0</td>\n",
       "    </tr>\n",
       "    <tr>\n",
       "      <th>2019-05-02</th>\n",
       "      <td>5BDN21B</td>\n",
       "      <td>62004</td>\n",
       "      <td>10000.0</td>\n",
       "    </tr>\n",
       "    <tr>\n",
       "      <th>2019-05-02</th>\n",
       "      <td>5BDN21B</td>\n",
       "      <td>OLAP</td>\n",
       "      <td>-216500.0</td>\n",
       "    </tr>\n",
       "    <tr>\n",
       "      <th>2019-05-02</th>\n",
       "      <td>5BDN21B</td>\n",
       "      <td>SCBCO</td>\n",
       "      <td>-100.0</td>\n",
       "    </tr>\n",
       "    <tr>\n",
       "      <th>2019-05-02</th>\n",
       "      <td>5BDN21B</td>\n",
       "      <td>TKOOB</td>\n",
       "      <td>208.0</td>\n",
       "    </tr>\n",
       "    <tr>\n",
       "      <th>2019-05-02</th>\n",
       "      <td>5MJ2C1B</td>\n",
       "      <td>0010V</td>\n",
       "      <td>200.0</td>\n",
       "    </tr>\n",
       "    <tr>\n",
       "      <th>2019-05-02</th>\n",
       "      <td>5MJ2C1B</td>\n",
       "      <td>1003V</td>\n",
       "      <td>100.0</td>\n",
       "    </tr>\n",
       "    <tr>\n",
       "      <th>2019-05-02</th>\n",
       "      <td>5MJ2C1B</td>\n",
       "      <td>12280</td>\n",
       "      <td>10000.0</td>\n",
       "    </tr>\n",
       "    <tr>\n",
       "      <th>2019-05-02</th>\n",
       "      <td>5MJ2C1B</td>\n",
       "      <td>25SJP</td>\n",
       "      <td>-200.0</td>\n",
       "    </tr>\n",
       "    <tr>\n",
       "      <th>2019-05-02</th>\n",
       "      <td>5MJ2C1B</td>\n",
       "      <td>3210P</td>\n",
       "      <td>-151400.0</td>\n",
       "    </tr>\n",
       "    <tr>\n",
       "      <th>2019-05-02</th>\n",
       "      <td>5MJ2C1B</td>\n",
       "      <td>4303P</td>\n",
       "      <td>-2200.0</td>\n",
       "    </tr>\n",
       "    <tr>\n",
       "      <th>2019-05-02</th>\n",
       "      <td>5MJ2C1B</td>\n",
       "      <td>4303V</td>\n",
       "      <td>10800.0</td>\n",
       "    </tr>\n",
       "    <tr>\n",
       "      <th>2019-05-02</th>\n",
       "      <td>5MJ2C1B</td>\n",
       "      <td>5003P</td>\n",
       "      <td>-116.0</td>\n",
       "    </tr>\n",
       "    <tr>\n",
       "      <th>2019-05-02</th>\n",
       "      <td>5MJ2C1B</td>\n",
       "      <td>6108P</td>\n",
       "      <td>-51800.0</td>\n",
       "    </tr>\n",
       "    <tr>\n",
       "      <th>2019-05-02</th>\n",
       "      <td>5MJ2C1B</td>\n",
       "      <td>62004</td>\n",
       "      <td>10000.0</td>\n",
       "    </tr>\n",
       "    <tr>\n",
       "      <th>2019-05-02</th>\n",
       "      <td>5MJ2C1B</td>\n",
       "      <td>94SJP</td>\n",
       "      <td>-5066.0</td>\n",
       "    </tr>\n",
       "    <tr>\n",
       "      <th>2019-05-02</th>\n",
       "      <td>5MJ2C1B</td>\n",
       "      <td>AMFDE</td>\n",
       "      <td>144900.0</td>\n",
       "    </tr>\n",
       "  </tbody>\n",
       "</table>\n",
       "</div>"
      ],
      "text/plain": [
       "                SEDOL Counterparty_Account_ID  Position_Quantity_SD\n",
       "BusinessDate                                                       \n",
       "2019-05-02    5BDN21B                   11009              121000.0\n",
       "2019-05-02    5BDN21B                   14120              928200.0\n",
       "2019-05-02    5BDN21B                   16109             1452000.0\n",
       "2019-05-02    5BDN21B                   16140              -40600.0\n",
       "2019-05-02    5BDN21B                   62004               10000.0\n",
       "2019-05-02    5BDN21B                    OLAP             -216500.0\n",
       "2019-05-02    5BDN21B                   SCBCO                -100.0\n",
       "2019-05-02    5BDN21B                   TKOOB                 208.0\n",
       "2019-05-02    5MJ2C1B                   0010V                 200.0\n",
       "2019-05-02    5MJ2C1B                   1003V                 100.0\n",
       "2019-05-02    5MJ2C1B                   12280               10000.0\n",
       "2019-05-02    5MJ2C1B                   25SJP                -200.0\n",
       "2019-05-02    5MJ2C1B                   3210P             -151400.0\n",
       "2019-05-02    5MJ2C1B                   4303P               -2200.0\n",
       "2019-05-02    5MJ2C1B                   4303V               10800.0\n",
       "2019-05-02    5MJ2C1B                   5003P                -116.0\n",
       "2019-05-02    5MJ2C1B                   6108P              -51800.0\n",
       "2019-05-02    5MJ2C1B                   62004               10000.0\n",
       "2019-05-02    5MJ2C1B                   94SJP               -5066.0\n",
       "2019-05-02    5MJ2C1B                   AMFDE              144900.0"
      ]
     },
     "execution_count": 3,
     "metadata": {},
     "output_type": "execute_result"
    }
   ],
   "source": [
    "df = pd.read_excel('dataset.xlsx', index_col='BusinessDate', parse_dates=True)\n",
    "df.head(20)"
   ]
  },
  {
   "cell_type": "code",
   "execution_count": 7,
   "metadata": {
    "ExecuteTime": {
     "end_time": "2020-06-22T15:13:22.774844Z",
     "start_time": "2020-06-22T15:13:22.740627Z"
    }
   },
   "outputs": [
    {
     "name": "stdout",
     "output_type": "stream",
     "text": [
      "<class 'pandas.core.frame.DataFrame'>\n",
      "DatetimeIndex: 9926 entries, 2019-05-02 to 2019-09-10\n",
      "Data columns (total 3 columns):\n",
      " #   Column                   Non-Null Count  Dtype  \n",
      "---  ------                   --------------  -----  \n",
      " 0   SEDOL                    9926 non-null   object \n",
      " 1   Counterparty_Account_ID  9926 non-null   object \n",
      " 2   Position_Quantity_SD     9926 non-null   float64\n",
      "dtypes: float64(1), object(2)\n",
      "memory usage: 310.2+ KB\n"
     ]
    }
   ],
   "source": [
    "df.info()"
   ]
  },
  {
   "cell_type": "code",
   "execution_count": 15,
   "metadata": {
    "ExecuteTime": {
     "end_time": "2020-06-22T15:35:22.181251Z",
     "start_time": "2020-06-22T15:35:22.146253Z"
    }
   },
   "outputs": [
    {
     "data": {
      "text/html": [
       "<div>\n",
       "<style scoped>\n",
       "    .dataframe tbody tr th:only-of-type {\n",
       "        vertical-align: middle;\n",
       "    }\n",
       "\n",
       "    .dataframe tbody tr th {\n",
       "        vertical-align: top;\n",
       "    }\n",
       "\n",
       "    .dataframe thead th {\n",
       "        text-align: right;\n",
       "    }\n",
       "</style>\n",
       "<table border=\"1\" class=\"dataframe\">\n",
       "  <thead>\n",
       "    <tr style=\"text-align: right;\">\n",
       "      <th></th>\n",
       "      <th>Position_Quantity_SD</th>\n",
       "    </tr>\n",
       "  </thead>\n",
       "  <tbody>\n",
       "    <tr>\n",
       "      <th>count</th>\n",
       "      <td>9.926000e+03</td>\n",
       "    </tr>\n",
       "    <tr>\n",
       "      <th>mean</th>\n",
       "      <td>-4.380698e+05</td>\n",
       "    </tr>\n",
       "    <tr>\n",
       "      <th>std</th>\n",
       "      <td>3.092244e+06</td>\n",
       "    </tr>\n",
       "    <tr>\n",
       "      <th>min</th>\n",
       "      <td>-2.789100e+07</td>\n",
       "    </tr>\n",
       "    <tr>\n",
       "      <th>25%</th>\n",
       "      <td>-6.700900e+04</td>\n",
       "    </tr>\n",
       "    <tr>\n",
       "      <th>50%</th>\n",
       "      <td>2.010000e+02</td>\n",
       "    </tr>\n",
       "    <tr>\n",
       "      <th>75%</th>\n",
       "      <td>4.000000e+04</td>\n",
       "    </tr>\n",
       "    <tr>\n",
       "      <th>max</th>\n",
       "      <td>1.019140e+07</td>\n",
       "    </tr>\n",
       "  </tbody>\n",
       "</table>\n",
       "</div>"
      ],
      "text/plain": [
       "       Position_Quantity_SD\n",
       "count          9.926000e+03\n",
       "mean          -4.380698e+05\n",
       "std            3.092244e+06\n",
       "min           -2.789100e+07\n",
       "25%           -6.700900e+04\n",
       "50%            2.010000e+02\n",
       "75%            4.000000e+04\n",
       "max            1.019140e+07"
      ]
     },
     "execution_count": 15,
     "metadata": {},
     "output_type": "execute_result"
    }
   ],
   "source": [
    "df.describe()"
   ]
  },
  {
   "cell_type": "code",
   "execution_count": 21,
   "metadata": {
    "ExecuteTime": {
     "end_time": "2020-06-22T15:43:58.679218Z",
     "start_time": "2020-06-22T15:43:58.664088Z"
    }
   },
   "outputs": [
    {
     "data": {
      "text/plain": [
       "array(['5BDN21B', '5MJ2C1B', '6NY9V1B', '6Y3RH2B', '74ZI41B'],\n",
       "      dtype=object)"
      ]
     },
     "execution_count": 21,
     "metadata": {},
     "output_type": "execute_result"
    }
   ],
   "source": [
    "df.SEDOL.unique()"
   ]
  },
  {
   "cell_type": "code",
   "execution_count": 16,
   "metadata": {
    "ExecuteTime": {
     "end_time": "2020-06-22T15:39:55.972586Z",
     "start_time": "2020-06-22T15:39:55.935781Z"
    }
   },
   "outputs": [],
   "source": [
    "temp0 = df.groupby(['SEDOL', 'BusinessDate']).agg('mean')"
   ]
  },
  {
   "cell_type": "code",
   "execution_count": 17,
   "metadata": {
    "ExecuteTime": {
     "end_time": "2020-06-22T15:39:58.941332Z",
     "start_time": "2020-06-22T15:39:58.894368Z"
    }
   },
   "outputs": [
    {
     "data": {
      "text/html": [
       "<div>\n",
       "<style scoped>\n",
       "    .dataframe tbody tr th:only-of-type {\n",
       "        vertical-align: middle;\n",
       "    }\n",
       "\n",
       "    .dataframe tbody tr th {\n",
       "        vertical-align: top;\n",
       "    }\n",
       "\n",
       "    .dataframe thead th {\n",
       "        text-align: right;\n",
       "    }\n",
       "</style>\n",
       "<table border=\"1\" class=\"dataframe\">\n",
       "  <thead>\n",
       "    <tr style=\"text-align: right;\">\n",
       "      <th></th>\n",
       "      <th></th>\n",
       "      <th>Position_Quantity_SD</th>\n",
       "    </tr>\n",
       "    <tr>\n",
       "      <th>SEDOL</th>\n",
       "      <th>BusinessDate</th>\n",
       "      <th></th>\n",
       "    </tr>\n",
       "  </thead>\n",
       "  <tbody>\n",
       "    <tr>\n",
       "      <th rowspan=\"5\" valign=\"top\">5BDN21B</th>\n",
       "      <th>2019-05-02</th>\n",
       "      <td>281776.000000</td>\n",
       "    </tr>\n",
       "    <tr>\n",
       "      <th>2019-05-03</th>\n",
       "      <td>281188.500000</td>\n",
       "    </tr>\n",
       "    <tr>\n",
       "      <th>2019-05-06</th>\n",
       "      <td>287888.500000</td>\n",
       "    </tr>\n",
       "    <tr>\n",
       "      <th>2019-05-07</th>\n",
       "      <td>275838.500000</td>\n",
       "    </tr>\n",
       "    <tr>\n",
       "      <th>2019-05-08</th>\n",
       "      <td>273588.500000</td>\n",
       "    </tr>\n",
       "    <tr>\n",
       "      <th>...</th>\n",
       "      <th>...</th>\n",
       "      <td>...</td>\n",
       "    </tr>\n",
       "    <tr>\n",
       "      <th rowspan=\"5\" valign=\"top\">74ZI41B</th>\n",
       "      <th>2019-09-04</th>\n",
       "      <td>217439.277778</td>\n",
       "    </tr>\n",
       "    <tr>\n",
       "      <th>2019-09-05</th>\n",
       "      <td>204328.166667</td>\n",
       "    </tr>\n",
       "    <tr>\n",
       "      <th>2019-09-06</th>\n",
       "      <td>218465.117647</td>\n",
       "    </tr>\n",
       "    <tr>\n",
       "      <th>2019-09-09</th>\n",
       "      <td>104161.500000</td>\n",
       "    </tr>\n",
       "    <tr>\n",
       "      <th>2019-09-10</th>\n",
       "      <td>121994.833333</td>\n",
       "    </tr>\n",
       "  </tbody>\n",
       "</table>\n",
       "<p>470 rows × 1 columns</p>\n",
       "</div>"
      ],
      "text/plain": [
       "                      Position_Quantity_SD\n",
       "SEDOL   BusinessDate                      \n",
       "5BDN21B 2019-05-02           281776.000000\n",
       "        2019-05-03           281188.500000\n",
       "        2019-05-06           287888.500000\n",
       "        2019-05-07           275838.500000\n",
       "        2019-05-08           273588.500000\n",
       "...                                    ...\n",
       "74ZI41B 2019-09-04           217439.277778\n",
       "        2019-09-05           204328.166667\n",
       "        2019-09-06           218465.117647\n",
       "        2019-09-09           104161.500000\n",
       "        2019-09-10           121994.833333\n",
       "\n",
       "[470 rows x 1 columns]"
      ]
     },
     "execution_count": 17,
     "metadata": {},
     "output_type": "execute_result"
    }
   ],
   "source": [
    "temp0"
   ]
  },
  {
   "cell_type": "code",
   "execution_count": 22,
   "metadata": {
    "ExecuteTime": {
     "end_time": "2020-06-22T15:46:34.446689Z",
     "start_time": "2020-06-22T15:46:34.371538Z"
    }
   },
   "outputs": [],
   "source": [
    "sedol1 = temp0.loc['5BDN21B'].describe()\n",
    "sedol2 = temp0.loc['5MJ2C1B'].describe()\n",
    "sedol3 = temp0.loc['6NY9V1B'].describe()\n",
    "sedol4 = temp0.loc['6Y3RH2B'].describe()\n",
    "sedol5 = temp0.loc['74ZI41B'].describe()"
   ]
  },
  {
   "cell_type": "code",
   "execution_count": null,
   "metadata": {},
   "outputs": [],
   "source": []
  }
 ],
 "metadata": {
  "kernelspec": {
   "display_name": "Python 3",
   "language": "python",
   "name": "python3"
  },
  "language_info": {
   "codemirror_mode": {
    "name": "ipython",
    "version": 3
   },
   "file_extension": ".py",
   "mimetype": "text/x-python",
   "name": "python",
   "nbconvert_exporter": "python",
   "pygments_lexer": "ipython3",
   "version": "3.7.6"
  }
 },
 "nbformat": 4,
 "nbformat_minor": 2
}
